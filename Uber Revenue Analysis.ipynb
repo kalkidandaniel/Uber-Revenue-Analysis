{
 "cells": [
  {
   "cell_type": "markdown",
   "id": "3924b9af-cff7-4b34-9c41-375f54df6a6b",
   "metadata": {},
   "source": [
    "## Project:  SQL-Based Data Cleaning & Transformation for Uber Revenue Analysis"
   ]
  },
  {
   "cell_type": "markdown",
   "id": "10595691-2b0d-45eb-ad9c-96d273596157",
   "metadata": {},
   "source": [
    "###  Project Overview\n",
    "#### In this project, I cleaned, transformed, and augmented an Uber revenue dataset by applying SQL and Python-based data processing techniques. The goal was to ensure data quality, improve usability, and generate meaningful insights by integrating additional customer segmentation data.\n",
    "\n",
    "###  Project Goals\n",
    "##### ✔ Understand & Define the Dataset – Identify key measures, dimensions, and critical columns.\n",
    "##### ✔ Perform Data Cleaning – Fix formatting, ensure consistency, and remove duplicates.\n",
    "##### ✔ Handle Missing & Unusable Data – Make informed decisions on missing values.\n",
    "##### ✔ Augment Data with New Features – Create additional calculated columns for deeper analysis.\n",
    "##### ✔ Enhance Dataset with External Data – Blend Uber revenue data with customer demographics.\n",
    "##### ✔ Prepare Data for Analysis & Reporting – Make the dataset structured, complete, and ready for insights.\n",
    "\n",
    "###  Datasets Used\n",
    "##### 1️⃣ Uber Revenue Data – Contains ride transactions, pickup locations, and fare details.\n",
    "##### 2️⃣ Customer Segmentation Data – Includes customer demographics and income segments."
   ]
  },
  {
   "cell_type": "markdown",
   "id": "912100f4-d649-4927-8635-269bf0a98db2",
   "metadata": {},
   "source": [
    "### Step 1: Conceptualize (Understanding of the Data)"
   ]
  },
  {
   "cell_type": "markdown",
   "id": "25635f3e-19aa-4a11-bf5f-889d28ef3138",
   "metadata": {},
   "source": [
    "#### 1A: Identify Grain, Measures, and Dimensions\n",
    "#### 💡 Goal: Understand what each row represents, the key numerical values, and important categories."
   ]
  },
  {
   "cell_type": "code",
   "execution_count": 1,
   "id": "13f6847c-3af6-4d1e-9dc2-f40bcc709812",
   "metadata": {},
   "outputs": [],
   "source": [
    "import pandas as pd"
   ]
  },
  {
   "cell_type": "code",
   "execution_count": 2,
   "id": "d206f9f3-e4db-45cf-bd5b-b111892163fa",
   "metadata": {
    "scrolled": true
   },
   "outputs": [
    {
     "name": "stdout",
     "output_type": "stream",
     "text": [
      "\n",
      "Uber Data Sample:\n",
      "   Request id Pickup point  Driver id          Status    Request timestamp  \\\n",
      "0         619      Airport        1.0  Trip Completed      11/7/2016 11:51   \n",
      "1         867      Airport        1.0  Trip Completed      11/7/2016 17:57   \n",
      "2        1807         City        1.0  Trip Completed       12/7/2016 9:17   \n",
      "3        2532      Airport        1.0  Trip Completed      12/7/2016 21:08   \n",
      "4        3112         City        1.0  Trip Completed  13-07-2016 08:33:16   \n",
      "\n",
      "        Drop timestamp  \n",
      "0      11/7/2016 13:00  \n",
      "1      11/7/2016 18:47  \n",
      "2       12/7/2016 9:58  \n",
      "3      12/7/2016 22:03  \n",
      "4  13-07-2016 09:25:47  \n",
      "\n",
      "OlineRetail Data Sample:\n",
      "  InvoiceNo StockCode                          Description  Quantity  \\\n",
      "0    536365    85123A   WHITE HANGING HEART T-LIGHT HOLDER         6   \n",
      "1    536365     71053                  WHITE METAL LANTERN         6   \n",
      "2    536365    84406B       CREAM CUPID HEARTS COAT HANGER         8   \n",
      "3    536365    84029G  KNITTED UNION FLAG HOT WATER BOTTLE         6   \n",
      "4    536365    84029E       RED WOOLLY HOTTIE WHITE HEART.         6   \n",
      "\n",
      "          InvoiceDate  UnitPrice  CustomerID         Country  \n",
      "0 2010-12-01 08:26:00       2.55     17850.0  United Kingdom  \n",
      "1 2010-12-01 08:26:00       3.39     17850.0  United Kingdom  \n",
      "2 2010-12-01 08:26:00       2.75     17850.0  United Kingdom  \n",
      "3 2010-12-01 08:26:00       3.39     17850.0  United Kingdom  \n",
      "4 2010-12-01 08:26:00       3.39     17850.0  United Kingdom  \n"
     ]
    }
   ],
   "source": [
    "# i first load the files\n",
    "uber_df = pd.read_csv(r\"C:\\Users\\K A L K I D A N\\OneDrive\\Desktop\\projects\\UberRequestData.csv\")\n",
    "retail_df = pd.read_excel(r\"C:\\Users\\K A L K I D A N\\OneDrive\\Desktop\\projects\\OnlineRetail.xlsx\")\n",
    "\n",
    "# check if it display first few rows to get an overview\n",
    "print(\"\\nUber Data Sample:\")\n",
    "print(uber_df.head())\n",
    "\n",
    "print(\"\\nOlineRetail Data Sample:\")\n",
    "print(retail_df.head())"
   ]
  },
  {
   "cell_type": "code",
   "execution_count": 3,
   "id": "4561778d-72fa-433b-8fa4-02a21c4fcbf4",
   "metadata": {},
   "outputs": [
    {
     "name": "stdout",
     "output_type": "stream",
     "text": [
      "\n",
      "Column Data Types in Uber Data:\n",
      "Request id             int64\n",
      "Pickup point          object\n",
      "Driver id            float64\n",
      "Status                object\n",
      "Request timestamp     object\n",
      "Drop timestamp        object\n",
      "dtype: object\n",
      "\n",
      "Column Data Types in Customer Data:\n",
      "InvoiceNo              object\n",
      "StockCode              object\n",
      "Description            object\n",
      "Quantity                int64\n",
      "InvoiceDate    datetime64[ns]\n",
      "UnitPrice             float64\n",
      "CustomerID            float64\n",
      "Country                object\n",
      "dtype: object\n"
     ]
    }
   ],
   "source": [
    "# to Check column names and data types\n",
    "print(\"\\nColumn Data Types in Uber Data:\")\n",
    "print(uber_df.dtypes)\n",
    "\n",
    "print(\"\\nColumn Data Types in Customer Data:\")\n",
    "print(retail_df.dtypes)"
   ]
  },
  {
   "cell_type": "code",
   "execution_count": 4,
   "id": "836999ee-1ab6-47ed-b2cf-a772fcdc1248",
   "metadata": {},
   "outputs": [
    {
     "name": "stdout",
     "output_type": "stream",
     "text": [
      "Valid categorical columns: ['Status', 'Pickup point']\n",
      "\n",
      "Unique Values in Status (Uber Data): ['Trip Completed', 'Cancelled', 'No Cars Available']\n",
      "\n",
      "Unique Values in Pickup point (Uber Data): ['Airport', 'City']\n"
     ]
    }
   ],
   "source": [
    "# Identify unique values in categorical columns\n",
    "categorical_cols = [\"Status\", \"Pickup point\"]  # Match exact case & spacing\n",
    "\n",
    "# find which ones are valid columns\n",
    "valid_cols = [col for col in categorical_cols if col in uber_df.columns or col in retail_df.columns]\n",
    "print(f\"Valid categorical columns: {valid_cols}\")\n",
    "\n",
    "# Print unique values only for existing columns\n",
    "for col in valid_cols:\n",
    "    if col in uber_df.columns:\n",
    "        print(f\"\\nUnique Values in {col} (Uber Data): {uber_df[col].dropna().unique().tolist()}\")\n",
    "    elif col in retail_df.columns:\n",
    "        print(f\"\\nUnique Values in {col} (OnlineRetail Data): {retail_df[col].dropna().unique().tolist()}\")\n"
   ]
  },
  {
   "cell_type": "code",
   "execution_count": 5,
   "id": "43075dcd-c07e-44be-a548-201f249d74a6",
   "metadata": {},
   "outputs": [
    {
     "name": "stdout",
     "output_type": "stream",
     "text": [
      "Uber DataFrame Columns: ['Request id', 'Pickup point', 'Driver id', 'Status', 'Request timestamp', 'Drop timestamp']\n",
      "Retail DataFrame Columns: ['InvoiceNo', 'StockCode', 'Description', 'Quantity', 'InvoiceDate', 'UnitPrice', 'CustomerID', 'Country']\n"
     ]
    }
   ],
   "source": [
    "print(\"Uber DataFrame Columns:\", list(uber_df.columns))\n",
    "print(\"Retail DataFrame Columns:\", list(retail_df.columns))\n"
   ]
  },
  {
   "cell_type": "markdown",
   "id": "2a7a3d8d-5bec-4876-a9f1-37d547e55e68",
   "metadata": {},
   "source": [
    "##### 📌 Key Questions to Answer:\n",
    "###### 1️⃣ What does each row represent? (Grain)\n",
    "###### 2️⃣ What are the most important measures (quantitative values)?\n",
    "###### 3️⃣ What are the key dimensions (categorical values)?\n",
    "\n"
   ]
  },
  {
   "cell_type": "markdown",
   "id": "4faac49b-49f0-4313-88bc-302fb2ef709e",
   "metadata": {},
   "source": [
    "#### 1B Identify Critical vs. Non-Critical Columns\n",
    "#### 💡 Goal: Find out which columns must be high quality (~80% complete) for analysis."
   ]
  },
  {
   "cell_type": "code",
   "execution_count": 6,
   "id": "dbe29cb9-1572-4af6-86a2-eb0d2b3af8be",
   "metadata": {},
   "outputs": [
    {
     "name": "stdout",
     "output_type": "stream",
     "text": [
      "\n",
      "Missing Values Percentage in Uber Data:\n",
      "Request id            0.000000\n",
      "Pickup point          0.000000\n",
      "Driver id            39.288362\n",
      "Status                0.000000\n",
      "Request timestamp     0.000000\n",
      "Drop timestamp       58.028169\n",
      "dtype: float64\n",
      "\n",
      "Missing Values Percentage in Customer Data:\n",
      "InvoiceNo       0.000000\n",
      "StockCode       0.000000\n",
      "Description     0.268311\n",
      "Quantity        0.000000\n",
      "InvoiceDate     0.000000\n",
      "UnitPrice       0.000000\n",
      "CustomerID     24.926694\n",
      "Country         0.000000\n",
      "dtype: float64\n"
     ]
    }
   ],
   "source": [
    "# Checking missing value percentages\n",
    "print(\"\\nMissing Values Percentage in Uber Data:\")\n",
    "print(uber_df.isnull().sum() / len(uber_df) * 100)\n",
    "\n",
    "print(\"\\nMissing Values Percentage in Customer Data:\")\n",
    "print(retail_df.isnull().sum() / len(retail_df) * 100)\n"
   ]
  },
  {
   "cell_type": "markdown",
   "id": "5b2c0db4-8715-44a3-b322-a8562d078ec0",
   "metadata": {},
   "source": [
    "##### 📌 Key Questions to Answer:\n",
    "###### 1️⃣ Which columns must be at least 80% complete?\n",
    "###### 2️⃣ Which columns can be ignored or dropped?"
   ]
  },
  {
   "cell_type": "markdown",
   "id": "9ebfa55a-0837-4e80-9fb5-5da6333b4fe6",
   "metadata": {},
   "source": [
    "### 1C: Understand Column Definitions\n",
    "#### 💡 Goal: Define what each important column represents.\n",
    "##### ✅ Uber Data Sample\n",
    "###### Request id → Unique identifier for each ride request\n",
    "###### Pickup point → Location where the ride starts (Airport or City)\n",
    "###### Driver id → Unique identifier for the Uber driver\n",
    "###### Status → Final state of the ride (Trip Completed, Canceled, etc.)\n",
    "###### Request timestamp → Date and time when the ride request was made (inconsistent format)\n",
    "###### Drop timestamp → Date and time when the ride was completed or canceled (inconsistent format)\n",
    "\n",
    "##### 📌 Issues to Fix:\n",
    "##### * Standardize timestamps\n",
    "##### * Convert Driver id to integer\n",
    "##### * Verify unique values in Pickup point\n",
    "####\n",
    "\n",
    "\n",
    "##### ✅ Online Retail Data Sample (Before Cleaning)\n",
    "###### InvoiceNo → Unique identifier for each transaction\n",
    "###### StockCode → Unique identifier for the purchased item\n",
    "###### Description → Name of the purchased product\n",
    "###### Quantity → Number of units sold per transaction\n",
    "###### InvoiceDate → Date and time when the transaction occurred (formatted correctly)\n",
    "###### UnitPrice → Price per unit of the purchased item\n",
    "###### CustomerID → Unique identifier for the customer (should be integer)\n",
    "###### Country → Country where the transaction took place\n",
    "\n",
    "##### 📌 Issues to Fix:\n",
    "##### * Convert CustomerID to integer\n",
    "##### * Extract time components from InvoiceDate (Hour, Day, Month)\n",
    "##### * Ensure StockCode remains a string (categorical)\n",
    "\n",
    "\n",
    "\n",
    "\n"
   ]
  },
  {
   "cell_type": "markdown",
   "id": "c7c0aa3d-2e13-499e-b40a-e8c868c26c7b",
   "metadata": {},
   "source": [
    "#### 📌 Step 2: Locate Solvable Issues (Fix Data Formatting & Quality)\n",
    "#### 💡 Goal: Clean up formatting, consistency, and duplicates."
   ]
  },
  {
   "cell_type": "markdown",
   "id": "52da07f2-f9bd-4f81-a1f4-0c601783dfed",
   "metadata": {},
   "source": [
    "### 2A: Fix Formatting Issues\n",
    "#### 💡 Goal: Convert dates to proper datetime format and Standardize text case"
   ]
  },
  {
   "cell_type": "code",
   "execution_count": 7,
   "id": "979777c2-3fba-4a40-99f5-744b67810035",
   "metadata": {
    "scrolled": true
   },
   "outputs": [],
   "source": [
    "# Convert timestamp columns to datetime format, to ensures date columns are in the correct format for time-based analysis.\n",
    "uber_df['Request timestamp'] = pd.to_datetime(uber_df['Request timestamp'], errors='coerce')\n",
    "uber_df['Drop timestamp'] = pd.to_datetime(uber_df['Drop timestamp'], errors='coerce')\n",
    "\n",
    "# Standardize text format (convert to lowercase)\n",
    "uber_df['Pickup point'] = uber_df['Pickup point'].str.lower()\n",
    "\n",
    "retail_df['Country'] = retail_df['Country'].str.lower() "
   ]
  },
  {
   "cell_type": "code",
   "execution_count": 8,
   "id": "52ba7147-5fdd-4264-89af-fcb8a3532d44",
   "metadata": {},
   "outputs": [
    {
     "name": "stdout",
     "output_type": "stream",
     "text": [
      "Uber DataFrame Columns: ['Request id', 'Pickup point', 'Driver id', 'Status', 'Request timestamp', 'Drop timestamp']\n"
     ]
    }
   ],
   "source": [
    "print(\"Uber DataFrame Columns:\", list(uber_df.columns))\n"
   ]
  },
  {
   "cell_type": "code",
   "execution_count": 9,
   "id": "fe5f98ae-2d5c-4c6d-b441-54c8f10baca8",
   "metadata": {},
   "outputs": [
    {
     "name": "stdout",
     "output_type": "stream",
     "text": [
      "Retail DataFrame Columns: ['InvoiceNo', 'StockCode', 'Description', 'Quantity', 'InvoiceDate', 'UnitPrice', 'CustomerID', 'Country']\n"
     ]
    }
   ],
   "source": [
    "print(\"Retail DataFrame Columns:\", list(retail_df.columns))\n"
   ]
  },
  {
   "cell_type": "markdown",
   "id": "cd978891-0037-4842-94f3-57745bebb487",
   "metadata": {},
   "source": [
    "### 2B: Ensure Consistency in Categories"
   ]
  },
  {
   "cell_type": "code",
   "execution_count": 10,
   "id": "50ede5c3-3924-4e13-92f4-6d1d0e3e95fb",
   "metadata": {},
   "outputs": [],
   "source": [
    "# Fix inconsistent categories (incase)\n",
    "uber_df['Status'] = uber_df['Status'].replace({'completed': 'Completed', 'canceled ': 'Canceled'})\n"
   ]
  },
  {
   "cell_type": "markdown",
   "id": "af87f8af-4677-4587-a081-ee1d947aa828",
   "metadata": {},
   "source": [
    "### 2C: Remove Duplicates"
   ]
  },
  {
   "cell_type": "code",
   "execution_count": 11,
   "id": "0573b5d8-d381-4ca9-8ee2-b29a96c701d5",
   "metadata": {},
   "outputs": [],
   "source": [
    "# Remove duplicate rows\n",
    "uber_df.drop_duplicates(inplace=True)\n",
    "retail_df.drop_duplicates(inplace=True)\n"
   ]
  },
  {
   "cell_type": "markdown",
   "id": "1afde5b3-ae5b-4bf8-86be-e632fb6ccb21",
   "metadata": {},
   "source": [
    "#### 📌 Step 3: Evaluate Unsolvable Issues (Handle Missing or Unusable Data)\n",
    "#### 💡 Goal: Decide whether to keep, fix, or drop missing values."
   ]
  },
  {
   "cell_type": "code",
   "execution_count": 12,
   "id": "c0c8f3f7-cbc2-454e-ac6c-988935b2c4f5",
   "metadata": {
    "scrolled": true
   },
   "outputs": [
    {
     "name": "stdout",
     "output_type": "stream",
     "text": [
      "\n",
      "Missing Values in Uber Data:\n",
      "Driver id            39.288362\n",
      "Request timestamp    60.355819\n",
      "Drop timestamp       82.950334\n",
      "dtype: float64\n",
      "\n",
      "Missing Values in Online Retail Data:\n",
      "Description     0.270945\n",
      "CustomerID     25.163377\n",
      "dtype: float64\n",
      "\n",
      "Remaining Missing Values in Uber Data:\n",
      "Request id         0\n",
      "Pickup point       0\n",
      "Driver id       2650\n",
      "Status             0\n",
      "request_time       0\n",
      "dtype: int64\n",
      "\n",
      "Remaining Missing Values in Online Retail Data:\n",
      "InvoiceNo       0\n",
      "StockCode       0\n",
      "Description     0\n",
      "Quantity        0\n",
      "invoice_date    0\n",
      "UnitPrice       0\n",
      "CustomerID      0\n",
      "Country         0\n",
      "dtype: int64\n"
     ]
    }
   ],
   "source": [
    "\n",
    " # Check missing values percentage\n",
    " missing_uber = uber_df.isnull().sum() / len(uber_df) * 100\n",
    " missing_retail = retail_df.isnull().sum() / len(retail_df) * 100\n",
    "\n",
    " print(\"\\nMissing Values in Uber Data:\")\n",
    " print(missing_uber[missing_uber > 0])  # Show only columns with missing data\n",
    "\n",
    " print(\"\\nMissing Values in Online Retail Data:\")\n",
    " print(missing_retail[missing_retail > 0])\n",
    "\n",
    "# Drop columns with >70% missing values\n",
    "uber_df = uber_df.drop(columns=[col for col in missing_uber.index if missing_uber[col] > 70])\n",
    "retail_df = retail_df.drop(columns=[col for col in missing_retail.index if missing_retail[col] > 70])\n",
    "\n",
    "# Rename columns for consistency\n",
    "uber_df = uber_df.rename(columns={'Request timestamp': 'request_time'})\n",
    "retail_df = retail_df.rename(columns={'InvoiceDate': 'invoice_date'})\n",
    "\n",
    "# Convert timestamps to datetime format safely\n",
    "uber_df['request_time'] = pd.to_datetime(uber_df['request_time'], errors='coerce')\n",
    "retail_df['invoice_date'] = pd.to_datetime(retail_df['invoice_date'], errors='coerce')\n",
    "\n",
    "# Fill missing timestamps with the most common value\n",
    "uber_df.loc[:, 'request_time'] = uber_df['request_time'].fillna(uber_df['request_time'].mode()[0])\n",
    "retail_df.loc[:, 'invoice_date'] = retail_df['invoice_date'].fillna(retail_df['invoice_date'].mode()[0])\n",
    "\n",
    "# Drop rows where CustomerID is missing in retail data (since it's important for segmentation)\n",
    "retail_df = retail_df.dropna(subset=['CustomerID'])\n",
    "\n",
    "# Check final missing values\n",
    "print(\"\\nRemaining Missing Values in Uber Data:\")\n",
    "print(uber_df.isnull().sum())\n",
    "\n",
    "print(\"\\nRemaining Missing Values in Online Retail Data:\")\n",
    "print(retail_df.isnull().sum())\n"
   ]
  },
  {
   "cell_type": "code",
   "execution_count": 13,
   "id": "95f0d1d7-13bd-41ec-b4d9-4490ca4affda",
   "metadata": {},
   "outputs": [
    {
     "name": "stdout",
     "output_type": "stream",
     "text": [
      "\n",
      "Final Missing Values in Uber Data:\n",
      "Request id      0\n",
      "Pickup point    0\n",
      "Driver id       0\n",
      "Status          0\n",
      "request_time    0\n",
      "dtype: int64\n"
     ]
    }
   ],
   "source": [
    "# Fill missing Driver ID with most common value (mode)\n",
    "most_common_driver = uber_df['Driver id'].mode()[0]\n",
    "uber_df['Driver id'] = uber_df['Driver id'].fillna(most_common_driver)\n",
    "\n",
    "# OR Alternative: Fill missing Driver ID with a placeholder (e.g., -1)\n",
    "# uber_df['Driver id'] = uber_df['Driver id'].fillna(-1)\n",
    "\n",
    "# Check if missing values are gone\n",
    "print(\"\\nFinal Missing Values in Uber Data:\")\n",
    "print(uber_df.isnull().sum())\n"
   ]
  },
  {
   "cell_type": "markdown",
   "id": "335ae35b-22b1-4f3d-a96f-0433c1d25e3d",
   "metadata": {},
   "source": [
    "#### 📝 Documentation Summary:\n",
    "#### ✅ Retail Data: No more missing values.\n",
    "#### ✅ Uber Data: Only Driver id had missing values (39.29%), which we filled with the most common value.\n",
    "##### Now, all missing data issues are solved! 🎉"
   ]
  },
  {
   "cell_type": "code",
   "execution_count": 14,
   "id": "c3f7102b-10b7-4019-a4a7-520bec144013",
   "metadata": {},
   "outputs": [
    {
     "name": "stdout",
     "output_type": "stream",
     "text": [
      "Index(['Request id', 'Pickup point', 'Driver id', 'Status', 'request_time'], dtype='object')\n"
     ]
    }
   ],
   "source": [
    "print(uber_df.columns)  #  Check the actual column names in my data\n"
   ]
  },
  {
   "cell_type": "code",
   "execution_count": 15,
   "id": "1354a2db-55f0-4b30-b920-2f1b3df7fd9b",
   "metadata": {},
   "outputs": [
    {
     "name": "stdout",
     "output_type": "stream",
     "text": [
      "Request id               int64\n",
      "Pickup point            object\n",
      "Driver id              float64\n",
      "Status                  object\n",
      "request_time    datetime64[ns]\n",
      "dtype: object\n"
     ]
    }
   ],
   "source": [
    "print(uber_df.dtypes)  #  See column names and their data types\n"
   ]
  },
  {
   "cell_type": "code",
   "execution_count": 16,
   "id": "8305c9c4-c555-4d27-9644-3dd7458f645d",
   "metadata": {},
   "outputs": [
    {
     "name": "stdout",
     "output_type": "stream",
     "text": [
      "Index(['Request id', 'Pickup point', 'Driver id', 'Status', 'request_time'], dtype='object')\n"
     ]
    }
   ],
   "source": [
    "print(uber_df.columns)\n"
   ]
  },
  {
   "cell_type": "markdown",
   "id": "5b08d713-b51d-43a9-b392-71fb3007e5f2",
   "metadata": {},
   "source": [
    "#### Step 4 - Augmentation (Creating Additional Data for Better Insights)\n",
    " ##### I Created:\n",
    "##### 1️⃣ Create new columns through calculations.\n",
    "##### 2️⃣ Merge Uber & Retail data to provide more context.\n",
    "##### 3️⃣ Add supplementary information (e.g., segment customers, categorize trips)."
   ]
  },
  {
   "cell_type": "markdown",
   "id": "4d2f57dc-b0e6-478a-b912-d20bfb162f09",
   "metadata": {},
   "source": [
    "##### 1️⃣ Creating New Columns\n",
    "###### I created:\n",
    "#####  Uber Data:-\n",
    "###### trip_duration:- Time taken for a ride (Drop Time - Request Time).\n",
    "###### ride_category:- Categorizing trip duration into \"Short\", \"Medium\", \"Long\".\n",
    "###### Retail Data:-\n",
    "###### TotalPrice:- (Quantity * UnitPrice) to get total transaction value."
   ]
  },
  {
   "cell_type": "code",
   "execution_count": 17,
   "id": "fa9e3133-15c1-4ba6-8fde-e6b3cbb7c908",
   "metadata": {
    "scrolled": true
   },
   "outputs": [
    {
     "name": "stdout",
     "output_type": "stream",
     "text": [
      "\n",
      "Uber Data with New Columns:\n",
      "         request_time  request_hour  request_day  request_month peak_hour\n",
      "0 2016-11-07 11:51:00            11            7             11  Non-Peak\n",
      "1 2016-11-07 17:57:00            17            7             11      Peak\n",
      "2 2016-12-07 09:17:00             9            7             12      Peak\n",
      "3 2016-12-07 21:08:00            21            7             12  Non-Peak\n",
      "4 2016-11-07 08:37:00             8            7             11      Peak\n",
      "\n",
      "Retail Data with New Columns:\n",
      "   Quantity  UnitPrice  TotalPrice CustomerSegment\n",
      "0         6       2.55       15.30    High Spender\n",
      "1         6       3.39       20.34    High Spender\n",
      "2         8       2.75       22.00    High Spender\n",
      "3         6       3.39       20.34    High Spender\n",
      "4         6       3.39       20.34    High Spender\n"
     ]
    }
   ],
   "source": [
    "\n",
    "# Ensure timestamps are in datetime format\n",
    "uber_df['request_time'] = pd.to_datetime(uber_df['request_time'])\n",
    "retail_df['invoice_date'] = pd.to_datetime(retail_df['invoice_date'])\n",
    "\n",
    "# Create new time-based columns\n",
    "uber_df['request_hour'] = uber_df['request_time'].dt.hour\n",
    "uber_df['request_day'] = uber_df['request_time'].dt.day\n",
    "uber_df['request_month'] = uber_df['request_time'].dt.month\n",
    "\n",
    "retail_df['invoice_hour'] = retail_df['invoice_date'].dt.hour\n",
    "retail_df['invoice_day'] = retail_df['invoice_date'].dt.day\n",
    "retail_df['invoice_month'] = retail_df['invoice_date'].dt.month\n",
    "\n",
    "# Identify peak hours (assuming peak hours are 7-9 AM & 5-7 PM)\n",
    "def classify_peak(hour):\n",
    "    return \"Peak\" if hour in [7, 8, 9, 17, 18, 19] else \"Non-Peak\"\n",
    "\n",
    "uber_df['peak_hour'] = uber_df['request_hour'].apply(classify_peak)\n",
    "\n",
    "# Create TotalPrice column for retail data\n",
    "retail_df['TotalPrice'] = retail_df['Quantity'] * retail_df['UnitPrice']\n",
    "\n",
    "# Classify customers based on their total spending\n",
    "customer_spending = retail_df.groupby('CustomerID')['TotalPrice'].sum()\n",
    "\n",
    "def categorize_customer(spend):\n",
    "    if spend > 500: return \"High Spender\"\n",
    "    elif spend > 100: return \"Mid Spender\"\n",
    "    else: return \"Low Spender\"\n",
    "\n",
    "customer_segments = customer_spending.apply(categorize_customer)\n",
    "retail_df = retail_df.merge(customer_segments.rename(\"CustomerSegment\"), on=\"CustomerID\", how=\"left\")\n",
    "\n",
    "# Preview changes\n",
    "print(\"\\nUber Data with New Columns:\")\n",
    "print(uber_df[['request_time', 'request_hour', 'request_day', 'request_month', 'peak_hour']].head())\n",
    "\n",
    "print(\"\\nRetail Data with New Columns:\")\n",
    "print(retail_df[['Quantity', 'UnitPrice', 'TotalPrice', 'CustomerSegment']].head())\n"
   ]
  },
  {
   "cell_type": "code",
   "execution_count": 18,
   "id": "ab80a319-021d-4267-a7ce-ca13d05288fb",
   "metadata": {},
   "outputs": [
    {
     "name": "stdout",
     "output_type": "stream",
     "text": [
      "Index(['Request id', 'Pickup point', 'Driver id', 'Status', 'request_time',\n",
      "       'request_hour', 'request_day', 'request_month', 'peak_hour'],\n",
      "      dtype='object')\n"
     ]
    }
   ],
   "source": [
    "print(uber_df.columns)\n"
   ]
  },
  {
   "cell_type": "code",
   "execution_count": 19,
   "id": "944975d9-bceb-484d-8c6f-4e3900c31da0",
   "metadata": {},
   "outputs": [
    {
     "name": "stdout",
     "output_type": "stream",
     "text": [
      "\n",
      "Merged Dataset Sample:\n",
      "Empty DataFrame\n",
      "Columns: [InvoiceNo, StockCode, Description, Quantity, invoice_date, UnitPrice, CustomerID, Country, invoice_hour, invoice_day, invoice_month, TotalPrice, CustomerSegment, Request id, Pickup point, Driver id, Status, request_time, request_hour, request_day, request_month, peak_hour, request_date]\n",
      "Index: []\n",
      "\n",
      "[0 rows x 23 columns]\n",
      "\n",
      "Shape of Merged Data: (0, 23)\n"
     ]
    }
   ],
   "source": [
    "# Convert timestamps to date format for merging\n",
    "uber_df['request_date'] = uber_df['request_time'].dt.date\n",
    "retail_df['invoice_date'] = pd.to_datetime(retail_df['invoice_date']).dt.date\n",
    "\n",
    "# Merge datasets on date\n",
    "merged_df = pd.merge(retail_df, uber_df, left_on='invoice_date', right_on='request_date', how='inner')\n",
    "\n",
    "# Preview merged dataset\n",
    "print(\"\\nMerged Dataset Sample:\")\n",
    "print(merged_df.head())\n",
    "\n",
    "# Check if the merge was successful\n",
    "print(\"\\nShape of Merged Data:\", merged_df.shape)\n"
   ]
  },
  {
   "cell_type": "code",
   "execution_count": 20,
   "id": "168cba7a-4a56-405e-9fb6-f35b1fe09a79",
   "metadata": {},
   "outputs": [
    {
     "name": "stdout",
     "output_type": "stream",
     "text": [
      "\n",
      "Unique Uber Request Dates: [datetime.date(2016, 11, 7) datetime.date(2016, 12, 7)]\n",
      "\n",
      "Unique Retail Invoice Dates: [datetime.date(2010, 12, 1) datetime.date(2010, 12, 2)\n",
      " datetime.date(2010, 12, 3) datetime.date(2010, 12, 5)\n",
      " datetime.date(2010, 12, 6)]\n",
      "\n",
      "Common Dates in Both Datasets: set()\n"
     ]
    }
   ],
   "source": [
    "# Check unique date values before merging\n",
    "print(\"\\nUnique Uber Request Dates:\", uber_df['request_date'].unique()[:5])  # Print first 5 dates\n",
    "print(\"\\nUnique Retail Invoice Dates:\", retail_df['invoice_date'].unique()[:5])\n",
    "\n",
    "# Check if any dates match between Uber & Retail\n",
    "common_dates = set(uber_df['request_date']).intersection(set(retail_df['invoice_date']))\n",
    "print(\"\\nCommon Dates in Both Datasets:\", common_dates)\n"
   ]
  },
  {
   "cell_type": "code",
   "execution_count": 21,
   "id": "e87f942f-bec0-4812-b3ce-be983d9f9a70",
   "metadata": {
    "scrolled": true
   },
   "outputs": [
    {
     "name": "stdout",
     "output_type": "stream",
     "text": [
      "\n",
      "Shape of Merged Data After Date Fix: (13810205, 23)\n",
      "\n",
      "Merged Dataset Sample:\n",
      "   Request id Pickup point  Driver id          Status        request_time  \\\n",
      "0         619      airport        1.0  Trip Completed 2016-11-07 11:51:00   \n",
      "1         619      airport        1.0  Trip Completed 2016-11-07 11:51:00   \n",
      "2         619      airport        1.0  Trip Completed 2016-11-07 11:51:00   \n",
      "3         619      airport        1.0  Trip Completed 2016-11-07 11:51:00   \n",
      "4         619      airport        1.0  Trip Completed 2016-11-07 11:51:00   \n",
      "\n",
      "   request_hour  request_day  request_month peak_hour request_date  ...  \\\n",
      "0            11            7             11  Non-Peak   2016-11-07  ...   \n",
      "1            11            7             11  Non-Peak   2016-11-07  ...   \n",
      "2            11            7             11  Non-Peak   2016-11-07  ...   \n",
      "3            11            7             11  Non-Peak   2016-11-07  ...   \n",
      "4            11            7             11  Non-Peak   2016-11-07  ...   \n",
      "\n",
      "  Quantity invoice_date UnitPrice  CustomerID         Country  invoice_hour  \\\n",
      "0       12   2016-11-07      0.83     16612.0  united kingdom             7   \n",
      "1        6   2016-11-07      2.95     16612.0  united kingdom             7   \n",
      "2        2   2016-11-07      8.25     16612.0  united kingdom             7   \n",
      "3       12   2016-11-07      1.25     16612.0  united kingdom             7   \n",
      "4        4   2016-11-07      4.25     16612.0  united kingdom             7   \n",
      "\n",
      "   invoice_day invoice_month  TotalPrice  CustomerSegment  \n",
      "0            7            11        9.96     High Spender  \n",
      "1            7            11       17.70     High Spender  \n",
      "2            7            11       16.50     High Spender  \n",
      "3            7            11       15.00     High Spender  \n",
      "4            7            11       17.00     High Spender  \n",
      "\n",
      "[5 rows x 23 columns]\n"
     ]
    }
   ],
   "source": [
    "# Shift retail data to match Uber's year (2016)\n",
    "retail_df['invoice_date'] = retail_df['invoice_date'].apply(lambda x: x.replace(year=2016))\n",
    "\n",
    "# Re-run the merge\n",
    "merged_df = pd.merge(uber_df, retail_df, left_on=\"request_date\", right_on=\"invoice_date\", how=\"inner\")\n",
    "\n",
    "print(\"\\nShape of Merged Data After Date Fix:\", merged_df.shape)\n",
    "print(\"\\nMerged Dataset Sample:\")\n",
    "print(merged_df.head())\n"
   ]
  },
  {
   "cell_type": "code",
   "execution_count": 22,
   "id": "481de20b-1a0e-45f5-aaa7-9db05c8aa65e",
   "metadata": {},
   "outputs": [],
   "source": [
    "merged_df = pd.merge(\n",
    "    uber_df, retail_df, \n",
    "    left_on=[\"request_month\", \"request_day\"], \n",
    "    right_on=[\"invoice_month\", \"invoice_day\"], \n",
    "    how=\"inner\"\n",
    ")\n"
   ]
  },
  {
   "cell_type": "markdown",
   "id": "df0d20a0-b9cf-44e2-8829-b47a0728f496",
   "metadata": {},
   "source": [
    "#### Step 5 - Exploratory Data Analysis (EDA)\n",
    "#### Analyze the merged dataset to uncover key insights about Uber rides and retail sales! 🚀\n",
    "\n",
    "\n"
   ]
  },
  {
   "cell_type": "markdown",
   "id": "8fafa42a-49d3-4941-bcb0-07610f607f80",
   "metadata": {},
   "source": [
    "##### 📊 1️⃣ Uber Ride Patterns Analysis\n",
    "##### We'll analyze:\n",
    "##### ✅ Total trips per hour, day, and month to find demand trends\n",
    "##### ✅ Peak vs. Non-Peak Hour trip distribution\n",
    "##### ✅ Most common pickup points"
   ]
  },
  {
   "cell_type": "code",
   "execution_count": 23,
   "id": "8875cc74-cf8c-4a53-a200-a0914f31e9cb",
   "metadata": {},
   "outputs": [
    {
     "name": "stderr",
     "output_type": "stream",
     "text": [
      "C:\\Users\\K A L K I D A N\\AppData\\Local\\Temp\\ipykernel_9912\\423097478.py:6: FutureWarning: \n",
      "\n",
      "Passing `palette` without assigning `hue` is deprecated and will be removed in v0.14.0. Assign the `x` variable to `hue` and set `legend=False` for the same effect.\n",
      "\n",
      "  sns.countplot(x='request_hour', data=merged_df, palette='viridis')\n"
     ]
    },
    {
     "data": {
      "image/png": "[encoded data removed]",
      "text/plain": [
       "<Figure size 1200x500 with 1 Axes>"
      ]
     },
     "metadata": {},
     "output_type": "display_data"
    },
    {
     "name": "stderr",
     "output_type": "stream",
     "text": [
      "C:\\Users\\K A L K I D A N\\AppData\\Local\\Temp\\ipykernel_9912\\423097478.py:14: FutureWarning: \n",
      "\n",
      "Passing `palette` without assigning `hue` is deprecated and will be removed in v0.14.0. Assign the `x` variable to `hue` and set `legend=False` for the same effect.\n",
      "\n",
      "  sns.countplot(x='Pickup point', data=merged_df, palette='coolwarm')\n"
     ]
    },
    {
     "data": {
      "image/png": "[encoded data removed]",
      "text/plain": [
       "<Figure size 800x500 with 1 Axes>"
      ]
     },
     "metadata": {},
     "output_type": "display_data"
    },
    {
     "name": "stderr",
     "output_type": "stream",
     "text": [
      "C:\\Users\\K A L K I D A N\\AppData\\Local\\Temp\\ipykernel_9912\\423097478.py:22: FutureWarning: \n",
      "\n",
      "Passing `palette` without assigning `hue` is deprecated and will be removed in v0.14.0. Assign the `x` variable to `hue` and set `legend=False` for the same effect.\n",
      "\n",
      "  sns.countplot(x='peak_hour', data=merged_df, palette='Set2')\n"
     ]
    },
    {
     "data": {
      "image/png": "[encoded data removed]",
      "text/plain": [
       "<Figure size 600x400 with 1 Axes>"
      ]
     },
     "metadata": {},
     "output_type": "display_data"
    }
   ],
   "source": [
    "import matplotlib.pyplot as plt\n",
    "import seaborn as sns\n",
    "\n",
    "# Plot trip counts per hour\n",
    "plt.figure(figsize=(12, 5))\n",
    "sns.countplot(x='request_hour', data=merged_df, palette='viridis')\n",
    "plt.title('Uber Trips per Hour')\n",
    "plt.xlabel('Hour of the Day')\n",
    "plt.ylabel('Number of Trips')\n",
    "plt.show()\n",
    "\n",
    "# Plot trips by pickup point\n",
    "plt.figure(figsize=(8, 5))\n",
    "sns.countplot(x='Pickup point', data=merged_df, palette='coolwarm')\n",
    "plt.title('Uber Trips by Pickup Point')\n",
    "plt.xlabel('Pickup Point')\n",
    "plt.ylabel('Number of Trips')\n",
    "plt.show()\n",
    "\n",
    "# Peak vs Non-Peak Hour trips\n",
    "plt.figure(figsize=(6, 4))\n",
    "sns.countplot(x='peak_hour', data=merged_df, palette='Set2')\n",
    "plt.title('Peak vs. Non-Peak Uber Trips')\n",
    "plt.xlabel('Time Category')\n",
    "plt.ylabel('Number of Trips')\n",
    "plt.show()\n"
   ]
  },
  {
   "cell_type": "markdown",
   "id": "39ba1c62-2f15-4c9a-b9e3-fbd27e7858a0",
   "metadata": {},
   "source": [
    "#####  2️⃣ Retail Sales Performance Analysis\n",
    "##### We'll analyze:\n",
    "##### ✅ Total revenue per hour, day, and month\n",
    "##### ✅ Top customer segments (High Spenders, Regular, Low Spenders)\n",
    "##### ✅ Top-selling countries"
   ]
  },
  {
   "cell_type": "code",
   "execution_count": 27,
   "id": "4b708283-5652-426d-bd6e-bb91c7bb9d8c",
   "metadata": {},
   "outputs": [
    {
     "data": {
      "image/png": "[encoded data removed]",
      "text/plain": [
       "<Figure size 1200x500 with 1 Axes>"
      ]
     },
     "metadata": {},
     "output_type": "display_data"
    },
    {
     "name": "stderr",
     "output_type": "stream",
     "text": [
      "C:\\Users\\K A L K I D A N\\AppData\\Local\\Temp\\ipykernel_9912\\350119965.py:14: FutureWarning: \n",
      "\n",
      "Passing `palette` without assigning `hue` is deprecated and will be removed in v0.14.0. Assign the `x` variable to `hue` and set `legend=False` for the same effect.\n",
      "\n",
      "  sns.countplot(x='CustomerSegment', data=merged_df, palette='Blues')\n"
     ]
    },
    {
     "data": {
      "image/png": "[encoded data removed]",
      "text/plain": [
       "<Figure size 800x500 with 1 Axes>"
      ]
     },
     "metadata": {},
     "output_type": "display_data"
    },
    {
     "data": {
      "image/png": "[encoded data removed]",
      "text/plain": [
       "<Figure size 1200x600 with 1 Axes>"
      ]
     },
     "metadata": {},
     "output_type": "display_data"
    }
   ],
   "source": [
    "# Total sales per month\n",
    "import matplotlib.pyplot as plt\n",
    "import seaborn as sns\n",
    "\n",
    "plt.figure(figsize=(12, 5))\n",
    "sns.barplot(x='invoice_month', y='TotalPrice', hue='invoice_month', data=merged_df, estimator=sum, palette='magma', legend=False)\n",
    "plt.title('Total Retail Sales per Month')\n",
    "plt.xlabel('Month')\n",
    "plt.ylabel('Total Sales ($)')\n",
    "plt.show()\n",
    "\n",
    "# Customer segmentation distribution\n",
    "plt.figure(figsize=(8, 5))\n",
    "sns.countplot(x='CustomerSegment', data=merged_df, palette='Blues')\n",
    "plt.title('Customer Segmentation Distribution')\n",
    "plt.xlabel('Segment')\n",
    "plt.ylabel('Number of Customers')\n",
    "plt.show()\n",
    "\n",
    "# Total sales by country (Top 10)\n",
    "plt.figure(figsize=(12, 6))\n",
    "top_countries = merged_df.groupby('Country')['TotalPrice'].sum().sort_values(ascending=False).head(10)\n",
    "top_countries.plot(kind='bar', color='green')\n",
    "plt.title('Top 10 Countries by Retail Sales')\n",
    "plt.xlabel('Country')\n",
    "plt.ylabel('Total Sales ($)')\n",
    "plt.xticks(rotation=45)\n",
    "plt.show()\n"
   ]
  },
  {
   "cell_type": "code",
   "execution_count": 28,
   "id": "3ba778b3-ec4d-44c6-88c2-24b99d54727c",
   "metadata": {},
   "outputs": [
    {
     "name": "stdout",
     "output_type": "stream",
     "text": [
      "   Request id Pickup point  Driver id          Status        request_time  \\\n",
      "0         619      airport        1.0  Trip Completed 2016-11-07 11:51:00   \n",
      "1         619      airport        1.0  Trip Completed 2016-11-07 11:51:00   \n",
      "2         619      airport        1.0  Trip Completed 2016-11-07 11:51:00   \n",
      "3         619      airport        1.0  Trip Completed 2016-11-07 11:51:00   \n",
      "4         619      airport        1.0  Trip Completed 2016-11-07 11:51:00   \n",
      "\n",
      "   request_hour  request_day  request_month peak_hour request_date  ...  \\\n",
      "0            11            7             11  Non-Peak   2016-11-07  ...   \n",
      "1            11            7             11  Non-Peak   2016-11-07  ...   \n",
      "2            11            7             11  Non-Peak   2016-11-07  ...   \n",
      "3            11            7             11  Non-Peak   2016-11-07  ...   \n",
      "4            11            7             11  Non-Peak   2016-11-07  ...   \n",
      "\n",
      "  Quantity invoice_date UnitPrice  CustomerID         Country  invoice_hour  \\\n",
      "0       12   2016-11-07      0.83     16612.0  united kingdom             7   \n",
      "1        6   2016-11-07      2.95     16612.0  united kingdom             7   \n",
      "2        2   2016-11-07      8.25     16612.0  united kingdom             7   \n",
      "3       12   2016-11-07      1.25     16612.0  united kingdom             7   \n",
      "4        4   2016-11-07      4.25     16612.0  united kingdom             7   \n",
      "\n",
      "   invoice_day invoice_month  TotalPrice  CustomerSegment  \n",
      "0            7            11        9.96     High Spender  \n",
      "1            7            11       17.70     High Spender  \n",
      "2            7            11       16.50     High Spender  \n",
      "3            7            11       15.00     High Spender  \n",
      "4            7            11       17.00     High Spender  \n",
      "\n",
      "[5 rows x 23 columns]\n"
     ]
    }
   ],
   "source": [
    "print(merged_df.head())\n"
   ]
  },
  {
   "cell_type": "code",
   "execution_count": null,
   "id": "6a9b2272-ff5e-442e-ad4c-2a5762a362ef",
   "metadata": {},
   "outputs": [],
   "source": []
  }
 ],
 "metadata": {
  "kernelspec": {
   "display_name": "Python 3 (ipykernel)",
   "language": "python",
   "name": "python3"
  },
  "language_info": {
   "codemirror_mode": {
    "name": "ipython",
    "version": 3
   },
   "file_extension": ".py",
   "mimetype": "text/x-python",
   "name": "python",
   "nbconvert_exporter": "python",
   "pygments_lexer": "ipython3",
   "version": "3.12.7"
  }
 },
 "nbformat": 4,
 "nbformat_minor": 5
}
